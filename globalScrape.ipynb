{
 "cells": [
  {
   "cell_type": "code",
   "execution_count": 1,
   "id": "28cd9e3b-e00b-4aee-9685-5f41b6f7f41b",
   "metadata": {},
   "outputs": [],
   "source": [
    "from bs4 import BeautifulSoup\n",
    "import requests\n",
    "import time\n",
    "import datetime\n",
    "\n",
    "import os\n",
    "import multiprocessing as mp\n",
    "\n",
    "import threading"
   ]
  },
  {
   "cell_type": "code",
   "execution_count": 2,
   "id": "79fc6a27-847b-4e8c-ae98-f6a462d1065e",
   "metadata": {},
   "outputs": [],
   "source": [
    "def request_platform(obj, platform):\n",
    "    if(platform == 'amazon'):\n",
    "        return obj.find_all(\"div\", {\"class\": \"s-result-item\"})\n",
    "    if(platform == 'flipkart'):\n",
    "        return obj.find_all(\"div\", {\"class\": \"_1AtVbE\"})\n",
    "    if(platform == 'gumtree'):\n",
    "        return obj.find_all(\"article\")\n",
    "    \n",
    "    return 'nothing'"
   ]
  },
  {
   "cell_type": "code",
   "execution_count": 3,
   "id": "850e6d1f-3c5c-489f-bbaf-9d75ef416fe1",
   "metadata": {},
   "outputs": [],
   "source": [
    "def request(url, platform):\n",
    "    headers = {\"User-Agent\": \"Mozilla/5.0 (Windows NT 10.0; Win64; x64) AppleWebKit/537.36 (KHTML, like Gecko) Chrome/78.0.3904.108 Safari/537.36\", \"Accept-Encoding\":\"gzip, deflate\", \"Accept\":\"text/html,application/xhtml+xml,application/xml;q=0.9,*/*;q=0.8\", \"DNT\":\"1\",\"Connection\":\"close\", \"Upgrade-Insecure-Requests\":\"1\"}\n",
    "    page = requests.get(url, headers=headers)\n",
    "    soup1 = BeautifulSoup(page.content, \"html.parser\")\n",
    "    soup2 = BeautifulSoup(soup1.prettify(), \"html.parser\")\n",
    "    \n",
    "    items = request_platform(soup2,platform)\n",
    "    \n",
    "    return items\n"
   ]
  },
  {
   "cell_type": "code",
   "execution_count": 4,
   "id": "7b330177-8bc6-4f5d-a3e5-67cf549dfc5c",
   "metadata": {},
   "outputs": [],
   "source": [
    "def flipkart_scrape(key_word, q, nb = 9):\n",
    "    key_word = key_word.replace(\" \", \"%20\")\n",
    "    url = 'https://www.flipkart.com/search?q='+ key_word\n",
    "    items = request(url, 'flipkart')\n",
    "    array_flpikart = []\n",
    "    for i in range(3, 13):\n",
    "        try:\n",
    "            array_flpikart.append(flipkart_details(items[i]))\n",
    "        except:\n",
    "            pass\n",
    "    \n",
    "    flpikart = array_flpikart\n",
    "    q.put(flpikart)\n",
    "\n",
    "def flipkart_details(item):\n",
    "    image = item.find(\"img\", {\"class\": \"_396cs4\"})['src']\n",
    "    link = item.find(\"a\", {\"class\": \"_1fQZEK\"})['href']\n",
    "    link_url = 'https://www.flipkart.com' + link\n",
    "    \n",
    "    title = item.find(\"div\", {\"class\": \"_4rR01T\"}).get_text().strip()[0:]\n",
    "    \n",
    "    description_list = item.find(\"ul\", {\"class\": \"_1xgFaf\"}).find_all(\"li\")\n",
    "    description = ''\n",
    "    for li in description_list:\n",
    "        description += li.get_text().strip()[0:] + ', '\n",
    "    \n",
    "    price_text = item.find(\"div\", {\"class\": \"_30jeq3 _1_WHN1\"}).get_text().strip()[0:]   \n",
    "    price_amount = price_text[1:]\n",
    "    price_symbol = price_text[0]\n",
    "    \n",
    "    #json\n",
    "    result = {\"image\": image, \"link_url\": link_url, \n",
    "              \"title\": title, \"price_text\": price_text, \"price_amount\": price_amount,\n",
    "              \"price_symbol\": price_symbol, \"description\": description}\n",
    "    \n",
    "    return result\n"
   ]
  },
  {
   "cell_type": "code",
   "execution_count": 5,
   "id": "0d4060ca-09c4-41ef-ba12-fbb504a325d1",
   "metadata": {},
   "outputs": [],
   "source": [
    "def gumtree_scrape(key_word, q, nb = 9):\n",
    "    key_word = key_word.replace(\" \", \"%20\")\n",
    "    \n",
    "    url = 'https://www.gumtree.com/search?search_category=all&q='+ key_word\n",
    "    items = request(url, 'gumtree')\n",
    "    array_gumtree = []\n",
    "    for i in range(1, 9):\n",
    "        array_gumtree.append(gumtree_details(items[i]))\n",
    "    \n",
    "    gumtree = array_gumtree\n",
    "    q.put(gumtree)\n",
    "\n",
    "def gumtree_details(item):\n",
    "    image = item.find(\"img\")['src']\n",
    "    if(image == ''):\n",
    "        image = item.find(\"img\")['data-src']\n",
    "      \n",
    "    link = item.find(\"a\", {\"class\": \"listing-link\"})\n",
    "    link_url = 'https://www.gumtree.com' + link['href']\n",
    "    \n",
    "    title = item.find(\"h2\").get_text().strip()[0:] \n",
    "    price_text = item.find(\"span\", {\"class\": \"listing-price\"}).get_text().strip()[0:]  \n",
    "    price_amount = price_text[0]\n",
    "    price_symbol = price_text[1:]\n",
    "    location = item.find(\"div\", {\"class\": \"listing-location\"}).get_text().strip()[0:]  \n",
    "    description = item.find(\"p\", {\"class\": \"listing-description\"}).get_text().strip()[0:]  \n",
    "    \n",
    "    #json\n",
    "    result = {\"image\": image, \"link_url\": link_url, \n",
    "              \"title\": title, \"price_text\": price_text, \"price_amount\": price_amount,\n",
    "              \"location\": location, \"description\": description}\n",
    "    \n",
    "    return result"
   ]
  },
  {
   "cell_type": "code",
   "execution_count": 6,
   "id": "7c1cd97c-ebdf-4793-ab5b-c9b1e408a239",
   "metadata": {},
   "outputs": [],
   "source": [
    "def amazon_scrape(key_word, q, nb = 9):\n",
    "    key_word = key_word.replace(\" \", \"+\")\n",
    "    url = 'https://www.amazon.com/s?k='+ key_word +'&ref=nb_sb_noss_2'\n",
    "    items = request(url, 'amazon')\n",
    "    array_amazon = []\n",
    "    for i in range(1, 9):\n",
    "        try:\n",
    "            array_amazon.append(amazon_details(items[i]))\n",
    "        except:\n",
    "            pass\n",
    "    \n",
    "    amazon = array_amazon\n",
    "    q.put(amazon)\n",
    "\n",
    "def amazon_details(item):\n",
    "    image = item.find(\"img\", { \"class\" : \"s-image\" })['src']\n",
    "    link = item.find(\"a\", {\"class\": \"a-link-normal\"})\n",
    "    link_url = 'https://www.amazon.com' + link['href']\n",
    "    \n",
    "    details = item.find(\"div\", {\"class\": \"sg-col sg-col-4-of-12 sg-col-8-of-16 sg-col-12-of-20\"})\n",
    "    title = details.find(\"a\").get_text().strip()[0:]\n",
    "    price_text = details.find(\"span\", {\"class\": \"a-offscreen\"}).get_text().strip()[0:]\n",
    "    price_amount = details.find(\"span\", {\"class\": \"a-price-whole\"}).get_text().strip()[0:] \n",
    "    price_symbol = details.find(\"span\", {\"class\": \"a-price-symbol\"}).get_text().strip()[0:] \n",
    "    ppl_rated = details.find(\"span\", {\"class\": \"a-size-base\"}).get_text().strip()[0:] \n",
    "    rate_text = details.find(\"span\", {\"class\": \"a-declarative\"}).get_text().strip()[0:] \n",
    "    \n",
    "    #json\n",
    "    result = {\"image\": image, \"link_url\": link_url, \n",
    "              \"title\": title, \"price_text\": price_text, \"price_amount\": price_amount,\n",
    "              \"price_symbol\": price_symbol, \"ppl_rated\": ppl_rated, rate_text: \"rate_text\"}\n",
    "    \n",
    "    return result\n"
   ]
  },
  {
   "cell_type": "code",
   "execution_count": 7,
   "id": "6b9d97a2-605f-44cb-8d29-f18b942b10db",
   "metadata": {},
   "outputs": [],
   "source": [
    "#global variables\n",
    "amazon = []\n",
    "gumtree = []\n",
    "flipkart = []\n"
   ]
  },
  {
   "cell_type": "code",
   "execution_count": 43,
   "id": "a6a7d3d7-d4b4-4978-978e-ad2b46ab803a",
   "metadata": {},
   "outputs": [
    {
     "data": {
      "text/plain": [
       "4.059105634689331"
      ]
     },
     "execution_count": 43,
     "metadata": {},
     "output_type": "execute_result"
    }
   ],
   "source": [
    "#Linear execution\n",
    "key_word = 'lenovo laptop'\n",
    "\n",
    "starttime = time.time()\n",
    "\n",
    "#gumtree = gumtree_scrape(key_word)\n",
    "amazon = amazon_scrape(key_word)\n",
    "flipkart = flipkart_scrape(key_word)\n",
    "\n",
    "time.time() - starttime"
   ]
  },
  {
   "cell_type": "code",
   "execution_count": 9,
   "id": "9c13c335-7e0c-4b74-bf64-c3df8cc45239",
   "metadata": {},
   "outputs": [
    {
     "name": "stdout",
     "output_type": "stream",
     "text": [
      "Done!\n",
      "2.5679190158843994\n"
     ]
    }
   ],
   "source": [
    "import threading\n",
    "\n",
    "key_word = 'lenovo laptop'\n",
    "  \n",
    "if __name__ == \"__main__\":\n",
    "    q1 = mp.Queue()\n",
    "    q2 = mp.Queue()\n",
    "    q3 = mp.Queue()\n",
    "    \n",
    "    # creating thread\n",
    "    t1 = threading.Thread(target=amazon_scrape, args=(key_word,q1))\n",
    "    t2 = threading.Thread(target=flipkart_scrape, args=(key_word,q2))\n",
    "    t3 = threading.Thread(target=gumtree_scrape, args=(key_word,q3))\n",
    "  \n",
    "    starttime = time.time()\n",
    "    t1.start()\n",
    "    t2.start()\n",
    "    t3.start()\n",
    "  \n",
    "    t1.join()\n",
    "    t2.join()\n",
    "    t3.join()\n",
    "    duration = time.time() - starttime  \n",
    "    # both threads completely executed\n",
    "    \n",
    "    amazon = q1.get()\n",
    "    flipkart = q2.get()\n",
    "    gumtree = q3.get()\n",
    "    \n",
    "    print(\"Done!\")    \n",
    "    print(duration)\n",
    "    os.kill"
   ]
  },
  {
   "cell_type": "code",
   "execution_count": null,
   "id": "272014df-9c8a-4b9d-b740-f3a5b6c96275",
   "metadata": {},
   "outputs": [],
   "source": []
  }
 ],
 "metadata": {
  "kernelspec": {
   "display_name": "Python 3 (ipykernel)",
   "language": "python",
   "name": "python3"
  },
  "language_info": {
   "codemirror_mode": {
    "name": "ipython",
    "version": 3
   },
   "file_extension": ".py",
   "mimetype": "text/x-python",
   "name": "python",
   "nbconvert_exporter": "python",
   "pygments_lexer": "ipython3",
   "version": "3.9.7"
  }
 },
 "nbformat": 4,
 "nbformat_minor": 5
}
