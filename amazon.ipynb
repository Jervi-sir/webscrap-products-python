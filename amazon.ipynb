{
 "cells": [
  {
   "cell_type": "code",
   "execution_count": 218,
   "id": "3df91dcd-c6cb-46e1-9914-6c92eb6f295e",
   "metadata": {},
   "outputs": [],
   "source": [
    "from bs4 import BeautifulSoup\n",
    "import requests\n",
    "import time\n",
    "import datetime"
   ]
  },
  {
   "cell_type": "code",
   "execution_count": 216,
   "id": "7ee65503-1081-47ce-b225-390f33f2927e",
   "metadata": {},
   "outputs": [],
   "source": [
    "def scrap_amazon(key_word, nb = 9):\n",
    "    key_word = key_word.replace(\" \", \"+\")\n",
    "    url = 'https://www.amazon.com/s?k='+ key_word +'&ref=nb_sb_noss_2'\n",
    "    items = scrap(url)\n",
    "    array_amzn = []\n",
    "    for i in range(1, 9):\n",
    "        try:\n",
    "            array_amzn.append(get_details(items[i]))\n",
    "        except:\n",
    "            pass\n",
    "    \n",
    "    return array_amzn"
   ]
  },
  {
   "cell_type": "code",
   "execution_count": 161,
   "id": "f8205cff-b6c9-4c51-a968-5a65997e34ff",
   "metadata": {},
   "outputs": [],
   "source": [
    "def scrap(url):\n",
    "    headers = {\"User-Agent\": \"Mozilla/5.0 (Windows NT 10.0; Win64; x64) AppleWebKit/537.36 (KHTML, like Gecko) Chrome/78.0.3904.108 Safari/537.36\", \"Accept-Encoding\":\"gzip, deflate\", \"Accept\":\"text/html,application/xhtml+xml,application/xml;q=0.9,*/*;q=0.8\", \"DNT\":\"1\",\"Connection\":\"close\", \"Upgrade-Insecure-Requests\":\"1\"}\n",
    "    page = requests.get(url, headers=headers)\n",
    "    soup1 = BeautifulSoup(page.content, \"html.parser\")\n",
    "    soup2 = BeautifulSoup(soup1.prettify(), \"html.parser\")\n",
    "    \n",
    "    items = soup2.find_all(\"div\", {\"class\": \"s-result-item\"})\n",
    "    \n",
    "    return items\n"
   ]
  },
  {
   "cell_type": "code",
   "execution_count": null,
   "id": "9a8ffef8-29e4-4124-8237-2ea676c5f620",
   "metadata": {},
   "outputs": [],
   "source": [
    "def get_details(item):\n",
    "    image = item.find(\"img\", { \"class\" : \"s-image\" })['src']\n",
    "    link = item.find(\"a\", {\"class\": \"a-link-normal\"})\n",
    "    link_url = 'https://www.amazon.com' + link['href']\n",
    "    \n",
    "    details = item.find(\"div\", {\"class\": \"sg-col sg-col-4-of-12 sg-col-8-of-16 sg-col-12-of-20\"})\n",
    "    title = details.find(\"a\").get_text().strip()[0:]\n",
    "    price_text = details.find(\"span\", {\"class\": \"a-offscreen\"}).get_text().strip()[0:]\n",
    "    price_amount = details.find(\"span\", {\"class\": \"a-price-whole\"}).get_text().strip()[0:] \n",
    "    price_symbol = details.find(\"span\", {\"class\": \"a-price-symbol\"}).get_text().strip()[0:] \n",
    "    ppl_rated = details.find(\"span\", {\"class\": \"a-size-base\"}).get_text().strip()[0:] \n",
    "    rate_text = details.find(\"span\", {\"class\": \"a-declarative\"}).get_text().strip()[0:] \n",
    "    \n",
    "    #json\n",
    "    result = {\"image\": image, \"link_url\": link_url, \n",
    "              \"title\": title, \"price_text\": price_text, \"price_amount\": price_amount,\n",
    "              \"price_symbol\": price_symbol, \"ppl_rated\": ppl_rated, rate_text: \"rate_text\"}\n",
    "    \n",
    "    return result"
   ]
  },
  {
   "cell_type": "code",
   "execution_count": 217,
   "id": "080873a0-cbd1-4757-8812-5afe8968c54e",
   "metadata": {},
   "outputs": [
    {
     "name": "stdin",
     "output_type": "stream",
     "text": [
      "Search \n",
      " dell laptop\n"
     ]
    },
    {
     "data": {
      "text/plain": [
       "[{'image': 'https://m.media-amazon.com/images/I/81fEklfNGSS._AC_UY218_.jpg',\n",
       "  'link_url': 'https://www.amazon.com/gp/slredirect/picassoRedirect.html/ref=pa_sp_atf_aps_sr_pg1_1?ie=UTF8&adId=A0609222VACOGRA5F4NE&url=%2FSAMSUNG-Platform-Computer-Processor-Long-Lasting%2Fdp%2FB091WY8D1C%2Fref%3Dsr_1_2_sspa%3Fdchild%3D1%26keywords%3Ddell%2Blaptop%26qid%3D1631717362%26sr%3D8-2-spons%26psc%3D1&qualifier=1631717362&id=5956429595477219&widgetName=sp_atf',\n",
       "  'title': 'Sponsored\\n                         \\n\\n\\n\\n                          Sponsored',\n",
       "  'price_text': '$824.99',\n",
       "  'price_amount': '824\\n                             \\n                              .',\n",
       "  'price_symbol': '$',\n",
       "  'ppl_rated': '177',\n",
       "  'Sponsored\\n                         \\n\\n\\n\\n                          Sponsored': 'rate_text'},\n",
       " {'image': 'https://m.media-amazon.com/images/I/71pSMhue5cL._AC_UY218_.jpg',\n",
       "  'link_url': 'https://www.amazon.com/Dell-Inspiron-LED-Backlit-Display-Processor/dp/B08X1CKDRG/ref=sr_1_3?dchild=1&keywords=dell+laptop&qid=1631717362&sr=8-3',\n",
       "  'title': '2021 Newest Dell Inspiron 3000 Laptop, 15.6 HD LED-Backlit Display, Intel Pentium Silver N5030 Processor, 16GB DDR4 RAM, 256GB PCIe Solid State Drive, Online Meeting Ready, Webcam, Win10 Home, Black',\n",
       "  'price_text': '$529.00',\n",
       "  'price_amount': '529\\n                           \\n                            .',\n",
       "  'price_symbol': '$',\n",
       "  'ppl_rated': '188',\n",
       "  '4.5 out of 5 stars': 'rate_text'},\n",
       " {'image': 'https://m.media-amazon.com/images/I/7150w5ZxZ9L._AC_UY218_.jpg',\n",
       "  'link_url': 'https://www.amazon.com/Dell-Inspiron-3583-Laptop-Celeron/dp/B08HSNRFTX/ref=sr_1_4?dchild=1&keywords=dell+laptop&qid=1631717362&sr=8-4',\n",
       "  'title': 'Dell Inspiron 3583 15” Laptop Intel Celeron – 128GB SSD – 4GB DDR4 – 1.6GHz - Intel UHD Graphics 610 - Windows 10 Home - Inspiron 15 3000 Series - New',\n",
       "  'price_text': '$336.68',\n",
       "  'price_amount': '336\\n                           \\n                            .',\n",
       "  'price_symbol': '$',\n",
       "  'ppl_rated': '437',\n",
       "  '4.5 out of 5 stars': 'rate_text'},\n",
       " {'image': 'https://m.media-amazon.com/images/I/61lpHybomRS._AC_UY218_.jpg',\n",
       "  'link_url': 'https://www.amazon.com/Dell-Latitude-Business-i5-10210U-Processor/dp/B0924TMWWH/ref=sr_1_5?dchild=1&keywords=dell+laptop&qid=1631717362&sr=8-5',\n",
       "  'title': 'Dell Latitude 3510 Business Laptop, 15.6\" HD Screen, 10th Gen Intel Core i5-10210U Processor, 8GB RAM, 256GB SSD, Webcam, Wi-Fi 6, Type-C, Windows 10 Pro, Black',\n",
       "  'price_text': '$799.00',\n",
       "  'price_amount': '799\\n                           \\n                            .',\n",
       "  'price_symbol': '$',\n",
       "  'ppl_rated': '3',\n",
       "  '5.0 out of 5 stars': 'rate_text'},\n",
       " {'image': 'https://m.media-amazon.com/images/I/814J+03BZ6L._AC_UY218_.jpg',\n",
       "  'link_url': 'https://www.amazon.com/Dell-Inspiron-Display-Processor-Bluetooth/dp/B092RGWTSL/ref=sr_1_6?dchild=1&keywords=dell+laptop&qid=1631717362&sr=8-6',\n",
       "  'title': '2021 Newest Dell Inspiron 3000 Laptop, 15.6 HD Display, Intel N4020 Processor, 16GB RAM, 512GB PCIe SSD, Online Meeting Ready, Webcam, WiFi, HDMI, Bluetooth, Win10 Home, Black',\n",
       "  'price_text': '$559.00',\n",
       "  'price_amount': '559\\n                           \\n                            .',\n",
       "  'price_symbol': '$',\n",
       "  'ppl_rated': '36',\n",
       "  '4.1 out of 5 stars': 'rate_text'},\n",
       " {'image': 'https://m.media-amazon.com/images/I/61PVrT7zAeL._AC_UY218_.jpg',\n",
       "  'link_url': 'https://www.amazon.com/Dell-Inspiron-Premium-Display-i5-1135G7/dp/B094DSDVPL/ref=sr_1_7?dchild=1&keywords=dell+laptop&qid=1631717362&sr=8-7',\n",
       "  'title': '2021 Newest Dell Inspiron 3000 Premium Laptop, 15.6 FHD Display, Intel Core i5-1135G7, 16GB DDR4 RAM, 256GB PCIe SSD, Online Meeting Ready, Webcam, WiFi, HDMI, Windows 10 Home, Black',\n",
       "  'price_text': '$739.00',\n",
       "  'price_amount': '739\\n                           \\n                            .',\n",
       "  'price_symbol': '$',\n",
       "  'ppl_rated': '49',\n",
       "  '4.6 out of 5 stars': 'rate_text'},\n",
       " {'image': 'https://m.media-amazon.com/images/I/71y6fc7Tk4L._AC_UY218_.jpg',\n",
       "  'link_url': 'https://www.amazon.com/Dell-Inspiron-5510-Laptop-Notebook/dp/B08QN5J2DY/ref=sr_1_8?dchild=1&keywords=dell+laptop&qid=1631717362&sr=8-8',\n",
       "  'title': 'Dell Inspiron 15 5510 Laptop Notebook, 15.6 Inch FHD (Full HD) Laptop - DDR4, Intel Core i5-11300H, 8GB DDR4 RAM, 512GB SSD, Intel Iris Xe Graphics, Windows 10 Home - Platinum Silver (Latest Model)',\n",
       "  'price_text': '$728.00',\n",
       "  'price_amount': '728\\n                           \\n                            .',\n",
       "  'price_symbol': '$',\n",
       "  'ppl_rated': '16',\n",
       "  '4.7 out of 5 stars': 'rate_text'},\n",
       " {'image': 'https://m.media-amazon.com/images/I/719B8rjtX+S._AC_UY218_.jpg',\n",
       "  'link_url': 'https://www.amazon.com/Dell-Gaming-5510-15-6-Laptop/dp/B08QLFFCJ4/ref=sr_1_9?dchild=1&keywords=dell+laptop&qid=1631717362&sr=8-9',\n",
       "  'title': 'Dell Gaming G15 5510, 15.6 Inch RTX 3060 Gaming Laptop Full HD - Intel Core i7-10870H, 16GB DDR4 RAM, 512GB SSD, NVIDIA GeForce RTX 3060 6GB GDDR6, Windows 10 Home - Grey (Latest Model)',\n",
       "  'price_text': '$1,399.99',\n",
       "  'price_amount': '1,399\\n                           \\n                            .',\n",
       "  'price_symbol': '$',\n",
       "  'ppl_rated': '532',\n",
       "  '4.5 out of 5 stars': 'rate_text'}]"
      ]
     },
     "execution_count": 217,
     "metadata": {},
     "output_type": "execute_result"
    }
   ],
   "source": [
    "key_word = input('Search \\n')\n",
    "scrap_amazon(key_word)"
   ]
  },
  {
   "cell_type": "code",
   "execution_count": null,
   "id": "683c766c-79f7-4719-b89f-651fb58d49b2",
   "metadata": {},
   "outputs": [],
   "source": []
  }
 ],
 "metadata": {
  "kernelspec": {
   "display_name": "Python 3 (ipykernel)",
   "language": "python",
   "name": "python3"
  },
  "language_info": {
   "codemirror_mode": {
    "name": "ipython",
    "version": 3
   },
   "file_extension": ".py",
   "mimetype": "text/x-python",
   "name": "python",
   "nbconvert_exporter": "python",
   "pygments_lexer": "ipython3",
   "version": "3.9.7"
  }
 },
 "nbformat": 4,
 "nbformat_minor": 5
}
