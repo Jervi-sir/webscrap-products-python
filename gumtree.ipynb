{
 "cells": [
  {
   "cell_type": "code",
   "execution_count": 127,
   "id": "ee777be5-adc7-4afa-9516-bfb301353518",
   "metadata": {},
   "outputs": [],
   "source": [
    "from bs4 import BeautifulSoup\n",
    "import requests\n",
    "import time\n",
    "import datetime"
   ]
  },
  {
   "cell_type": "code",
   "execution_count": 132,
   "id": "6ee847b6-2626-4d0e-86b3-d172f03f9d5e",
   "metadata": {},
   "outputs": [],
   "source": [
    "def gumtree_scrap(key_word, nb = 9):\n",
    "    key_word = key_word.replace(\" \", \"%20\")\n",
    "    \n",
    "    url = 'https://www.gumtree.com/search?search_category=all&q='+ key_word\n",
    "    items = scrap(url)\n",
    "    array_gumtree = []\n",
    "    for i in range(1, 9):\n",
    "        array_gumtree.append(get_details(items[i]))\n",
    "    \n",
    "    return array_gumtree"
   ]
  },
  {
   "cell_type": "code",
   "execution_count": 128,
   "id": "7297da2e-8ae9-4e05-96ec-f3d75b481499",
   "metadata": {},
   "outputs": [],
   "source": [
    "def scrap(url):\n",
    "    headers = {\"User-Agent\": \"Mozilla/5.0 (Windows NT 10.0; Win64; x64) AppleWebKit/537.36 (KHTML, like Gecko) Chrome/78.0.3904.108 Safari/537.36\", \"Accept-Encoding\":\"gzip, deflate\", \"Accept\":\"text/html,application/xhtml+xml,application/xml;q=0.9,*/*;q=0.8\", \"DNT\":\"1\",\"Connection\":\"close\", \"Upgrade-Insecure-Requests\":\"1\"}\n",
    "    page = requests.get(url, headers=headers)\n",
    "    soup1 = BeautifulSoup(page.content, \"html.parser\")\n",
    "    soup2 = BeautifulSoup(soup1.prettify(), \"html.parser\")\n",
    "    \n",
    "    items = soup2.find_all(\"article\")\n",
    "    \n",
    "    return items"
   ]
  },
  {
   "cell_type": "code",
   "execution_count": 129,
   "id": "93e79fdb-185c-4556-8fd9-73e8f5e36da0",
   "metadata": {},
   "outputs": [],
   "source": [
    "def get_details(item):\n",
    "    image = item.find(\"img\")['src']\n",
    "    if(image == ''):\n",
    "        image = item.find(\"img\")['data-src']\n",
    "      \n",
    "    link = item.find(\"a\", {\"class\": \"listing-link\"})\n",
    "    link_url = 'https://www.gumtree.com' + link['href']\n",
    "    \n",
    "    title = item.find(\"h2\").get_text().strip()[0:] \n",
    "    price_text = item.find(\"span\", {\"class\": \"listing-price\"}).get_text().strip()[0:]  \n",
    "    price_amount = price_text[0]\n",
    "    price_symbol = price_text[1:]\n",
    "    location = item.find(\"div\", {\"class\": \"listing-location\"}).get_text().strip()[0:]  \n",
    "    description = item.find(\"p\", {\"class\": \"listing-description\"}).get_text().strip()[0:]  \n",
    "    \n",
    "    #json\n",
    "    result = {\"image\": image, \"link_url\": link_url, \n",
    "              \"title\": title, \"price_text\": price_text, \"price_amount\": price_amount,\n",
    "              \"location\": location, \"description\": description}\n",
    "    \n",
    "    return result"
   ]
  },
  {
   "cell_type": "code",
   "execution_count": 131,
   "id": "151d9e68-60c9-417a-b6f1-15cf5014ce0e",
   "metadata": {},
   "outputs": [
    {
     "name": "stdin",
     "output_type": "stream",
     "text": [
      "Search \n",
      " samsung\n"
     ]
    },
    {
     "data": {
      "text/plain": [
       "[{'image': 'https://i.ebayimg.com/00/s/MTAyNFg3Njg=/z/FOUAAOSw0Y1hNyA6/$_99.JPG',\n",
       "  'link_url': 'https://www.gumtree.com/p/samsung/samsung-galaxy-s8-s8-s9-s9-s10e-s10-s10-s20-5g-s20-s20-ultra-s21-note-8-9-10-/1414251559',\n",
       "  'title': 'Samsung galaxy s8 s8+ s9 s9+ s10e s10 s10+ s20 5g s20+ s20 ultra s21 note 8,9, 10',\n",
       "  'price_text': '£120',\n",
       "  'price_amount': '£',\n",
       "  'location': 'Acocks Green, West Midlands',\n",
       "  'description': 'Samsung’s\\nS7 edge £120\\nA10s new £130\\nS8 £120\\nS8 plus £140\\nS9 £140\\nS9 plus £170\\nS10e £180\\nS10 lite £200\\nS10 £210\\nS10 plus £240\\nS20 fe £310\\nS20 5g\\nS20 plus 5g £385\\nS20 ultra 5g £440\\nS21 5g £450\\nS21 ultra £680\\nNote 8 £160\\nNote 9 £200\\nNote 10 lite £270'},\n",
       " {'image': 'https://i.ebayimg.com/00/s/MTAyNFg3Njg=/z/hu4AAOSwEAphLTW5/$_99.JPG',\n",
       "  'link_url': 'https://www.gumtree.com/p/samsung/samsung-galaxy-s21-ultra-5g-512gb/1413694597',\n",
       "  'title': 'Samsung Galaxy S21 Ultra 5g 512gb',\n",
       "  'price_text': '£1,150',\n",
       "  'price_amount': '£',\n",
       "  'location': 'Angel, London',\n",
       "  'description': 'Unpacked but never used, so this is virtually a new phone. With the original protective foil. BEWARE - PayPal and posting scam will be reported!!!'},\n",
       " {'image': 'https://i.ebayimg.com/00/s/MTAyNFg3Njg=/z/MAsAAOSwWzxhL7Oh/$_99.JPG',\n",
       "  'link_url': 'https://www.gumtree.com/p/samsung/samsung-galaxy-zflip-3-brand-new-/1413836306',\n",
       "  'title': 'Samsung Galaxy ZFlip 3 (brand new)',\n",
       "  'price_text': '£850',\n",
       "  'price_amount': '£',\n",
       "  'location': 'Bracknell, Berkshire',\n",
       "  'description': 'Hi im selling a Samsung ZFlip3 128GB 8G 5G (Vodafone) unwanted upgrade, I have opened the box just to take photos and make sure it works, all still sealed never been used. cash on collection, in the Bracknell area, if you are genuinely interested ple'},\n",
       " {'image': 'https://i.ebayimg.com/00/s/ODAwWDYwMA==/z/I58AAOSwM9dhQiSi/$_118.PNG',\n",
       "  'link_url': 'https://www.gumtree.com/p/samsung/samsung-galaxy-smartwatch/1414913062',\n",
       "  'title': 'Samsung Galaxy smartwatch',\n",
       "  'price_text': '£90',\n",
       "  'price_amount': '£',\n",
       "  'location': 'Cheltenham, Gloucestershire',\n",
       "  'description': \"New Samsung Galaxy smartwatch with Bluetooth, WiFi and GPS connection. The box hasn't been opened.\"},\n",
       " {'image': 'https://i.ebayimg.com/00/s/MTAyNFg3Njg=/z/TgwAAOSwiaRhQiSS/$_99.JPG',\n",
       "  'link_url': 'https://www.gumtree.com/p/samsung/samsung-galaxy-a32-unlocked-128gb-brand-new-box-warranty/1414913051',\n",
       "  'title': 'Samsung galaxy A32 Unlocked 128gb brand new box warranty',\n",
       "  'price_text': '£185',\n",
       "  'price_amount': '£',\n",
       "  'location': 'Bradford, West Yorkshire',\n",
       "  'description': 'Samsung galaxy A32 Unlocked 128gb brand new box warranty\\nMostly all colours\\nCome with box accessories\\n£185\\n01274921308\\nMostly all colours\\nCome with box accessories\\n£185\\n01274921308'},\n",
       " {'image': 'https://i.ebayimg.com/00/s/MTAyNFg3Njg=/z/AeEAAOSwCAhhQiRp/$_99.JPG',\n",
       "  'link_url': 'https://www.gumtree.com/p/samsung/samsung-galaxy-a02s-brand-new-box-warranty/1414912989',\n",
       "  'title': 'Samsung galaxy A02s brand new box warranty',\n",
       "  'price_text': '£79',\n",
       "  'price_amount': '£',\n",
       "  'location': 'Bradford, West Yorkshire',\n",
       "  'description': 'Samsung galaxy A02s brand new box warranty\\non all sim\\nCome with box accessories\\nUsed £80\\nNew £100\\n0127492130'},\n",
       " {'image': 'https://i.ebayimg.com/00/s/ODAwWDM3Mw==/z/riMAAOSwndphQiRG/$_118.PNG',\n",
       "  'link_url': 'https://www.gumtree.com/p/samsung/samsung-galaxy-note-20-ultra-/1414912929',\n",
       "  'title': 'Samsung galaxy note 20 ultra',\n",
       "  'price_text': '£650',\n",
       "  'price_amount': '£',\n",
       "  'location': 'Clifton, Nottinghamshire',\n",
       "  'description': 'Like new Samsung galaxy note 20 ultra. Phone is unlocked and boxed with everything'},\n",
       " {'image': 'https://i.ebayimg.com/00/s/MTAyNFg3Njg=/z/4c8AAOSwfuZhQiO7/$_99.JPG',\n",
       "  'link_url': 'https://www.gumtree.com/p/samsung/samsung-galaxy-a70-unlocked-like-new-box-warranty/1414912737',\n",
       "  'title': 'Samsung galaxy A70 unlocked like new box warranty',\n",
       "  'price_text': '£159',\n",
       "  'price_amount': '£',\n",
       "  'location': 'Bradford, West Yorkshire',\n",
       "  'description': 'Samsung galaxy A70 unlocked like new box warranty\\nOpen On all sim come with box accessories\\nWorldwide working\\nUsed £160\\nNew £270\\nMostly all colours available\\n01274921308'}]"
      ]
     },
     "execution_count": 131,
     "metadata": {},
     "output_type": "execute_result"
    }
   ],
   "source": [
    "key_word = input('Search \\n')\n",
    "gumtree_scrap(key_word)"
   ]
  },
  {
   "cell_type": "code",
   "execution_count": null,
   "id": "ce75eef8-0994-41b5-884b-90c1420a1246",
   "metadata": {},
   "outputs": [],
   "source": []
  }
 ],
 "metadata": {
  "kernelspec": {
   "display_name": "Python 3 (ipykernel)",
   "language": "python",
   "name": "python3"
  },
  "language_info": {
   "codemirror_mode": {
    "name": "ipython",
    "version": 3
   },
   "file_extension": ".py",
   "mimetype": "text/x-python",
   "name": "python",
   "nbconvert_exporter": "python",
   "pygments_lexer": "ipython3",
   "version": "3.9.7"
  }
 },
 "nbformat": 4,
 "nbformat_minor": 5
}
