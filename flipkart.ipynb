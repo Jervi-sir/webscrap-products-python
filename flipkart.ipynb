{
 "cells": [
  {
   "cell_type": "code",
   "execution_count": 87,
   "id": "34c21d73-0889-4977-a8b4-0aa61cca0eb3",
   "metadata": {},
   "outputs": [],
   "source": [
    "from bs4 import BeautifulSoup\n",
    "import requests\n",
    "import time\n",
    "import datetime"
   ]
  },
  {
   "cell_type": "code",
   "execution_count": 90,
   "id": "a28caf2c-35e5-481c-8d1c-5d665fdce964",
   "metadata": {},
   "outputs": [],
   "source": [
    "def scrap_flipkart(key_word, nb = 9):\n",
    "    key_word = key_word.replace(\" \", \"%20\")\n",
    "    url = 'https://www.flipkart.com/search?q='+ key_word\n",
    "    items = scrap(url)\n",
    "    array_flpikart = []\n",
    "    for i in range(3, 13):\n",
    "        try:\n",
    "            array_flpikart.append(get_details(items[i]))\n",
    "        except:\n",
    "            pass\n",
    "    \n",
    "    return array_flpikart"
   ]
  },
  {
   "cell_type": "code",
   "execution_count": 88,
   "id": "7354324c-ca79-440a-9c95-5cf653648127",
   "metadata": {},
   "outputs": [],
   "source": [
    "def scrap(url):\n",
    "    headers = {\"User-Agent\": \"Mozilla/5.0 (Windows NT 10.0; Win64; x64) AppleWebKit/537.36 (KHTML, like Gecko) Chrome/78.0.3904.108 Safari/537.36\", \"Accept-Encoding\":\"gzip, deflate\", \"Accept\":\"text/html,application/xhtml+xml,application/xml;q=0.9,*/*;q=0.8\", \"DNT\":\"1\",\"Connection\":\"close\", \"Upgrade-Insecure-Requests\":\"1\"}\n",
    "    page = requests.get(url, headers=headers)\n",
    "    soup1 = BeautifulSoup(page.content, \"html.parser\")\n",
    "    soup2 = BeautifulSoup(soup1.prettify(), \"html.parser\")\n",
    "    \n",
    "    items = soup2.find_all(\"div\", {\"class\": \"_1AtVbE\"})\n",
    "    \n",
    "    return items\n"
   ]
  },
  {
   "cell_type": "code",
   "execution_count": 89,
   "id": "a0da0d06-c543-4667-9eb6-166211b6bfdc",
   "metadata": {},
   "outputs": [],
   "source": [
    "def get_details(item):\n",
    "    image = item.find(\"img\", {\"class\": \"_396cs4\"})['src']\n",
    "    link = item.find(\"a\", {\"class\": \"_1fQZEK\"})['href']\n",
    "    link_url = 'https://www.flipkart.com' + link\n",
    "    \n",
    "    title = item.find(\"div\", {\"class\": \"_4rR01T\"}).get_text().strip()[0:]\n",
    "    \n",
    "    description_list = item.find(\"ul\", {\"class\": \"_1xgFaf\"}).find_all(\"li\")\n",
    "    description = ''\n",
    "    for li in description_list:\n",
    "        description += li.get_text().strip()[0:] + ', '\n",
    "    \n",
    "    price_text = item.find(\"div\", {\"class\": \"_30jeq3 _1_WHN1\"}).get_text().strip()[0:]   \n",
    "    price_amount = price_text[1:]\n",
    "    price_symbol = price_text[0]\n",
    "    \n",
    "    #json\n",
    "    result = {\"image\": image, \"link_url\": link_url, \n",
    "              \"title\": title, \"price_text\": price_text, \"price_amount\": price_amount,\n",
    "              \"price_symbol\": price_symbol, \"description\": description}\n",
    "    \n",
    "    return result"
   ]
  },
  {
   "cell_type": "code",
   "execution_count": 91,
   "id": "a2ade40d-af53-4cb8-97bb-7f6e500840fd",
   "metadata": {},
   "outputs": [
    {
     "name": "stdin",
     "output_type": "stream",
     "text": [
      "Search \n",
      " lenovo laptop\n"
     ]
    },
    {
     "data": {
      "text/plain": [
       "[{'image': 'https://rukminim1.flixcart.com/image/312/312/keaaavk0/computer/c/q/t/lenovo-na-thin-and-light-laptop-original-imafuzt873zgp9xe.jpeg?q=70',\n",
       "  'link_url': 'https://www.flipkart.com/lenovo-ideapad-core-i3-10th-gen-8-gb-256-gb-ssd-windows-10-home-14-iml-05-thin-light-laptop/p/itm89999b2b4e72b?pid=COMG3TZGXMYZTWRZ&lid=LSTCOMG3TZGXMYZTWRZPXJHVV&marketplace=FLIPKART&q=lenovo+laptop&store=6bo%2Fb5g&srno=s_1_1&otracker=search&fm=organic&iid=7c6aa7ec-2411-4e85-81fc-423d47048b9a.COMG3TZGXMYZTWRZ.SEARCH&ppt=None&ppn=None&ssid=eem5oznr8w0000001631727205716&qH=86f3cf6b571c1490',\n",
       "  'title': 'Lenovo IdeaPad Core i3 10th Gen - (8 GB/256 GB SSD/Windows 10 Home) 14 IML 05 Thin and Light Laptop',\n",
       "  'price_text': '₹39,990',\n",
       "  'price_amount': '39,990',\n",
       "  'price_symbol': '₹',\n",
       "  'description': 'Intel Core i3 Processor (10th Gen), 8 GB DDR4 RAM, 64 bit Windows 10 Operating System, 256 GB SSD, 35.56 cm (14 Inch) Display, Microsoft Office Home and Student 2019, 1 Year Onsite Warranty, '},\n",
       " {'image': 'https://rukminim1.flixcart.com/image/312/312/kqjtd3k0/computer/o/0/q/na-gaming-laptop-lenovo-original-imag4jpdnbjaqyp4.jpeg?q=70',\n",
       "  'link_url': 'https://www.flipkart.com/lenovo-apu-dual-core-a9-a99425-4-gb-1-tb-hdd-windows-10-e41-45-notebook/p/itm133835706fffc?pid=COMG4CRFHWW2WYHY&lid=LSTCOMG4CRFHWW2WYHYVYGVGH&marketplace=FLIPKART&q=lenovo+laptop&store=6bo%2Fb5g&srno=s_1_2&otracker=search&fm=organic&iid=7c6aa7ec-2411-4e85-81fc-423d47048b9a.COMG4CRFHWW2WYHY.SEARCH&ppt=None&ppn=None&ssid=eem5oznr8w0000001631727205716&qH=86f3cf6b571c1490',\n",
       "  'title': 'Lenovo APU Dual Core A9 A99425 - (4 GB/1 TB HDD/Windows 10) E41-45 Notebook',\n",
       "  'price_text': '₹28,000',\n",
       "  'price_amount': '28,000',\n",
       "  'price_symbol': '₹',\n",
       "  'description': 'AMD APU Dual Core A9 Processor, 4 GB DDR4 RAM, 64 bit DOS Operating System, 1 TB HDD, 35.56 cm (14 inch) Display, 1 Year Onsite Warranty, '},\n",
       " {'image': 'https://rukminim1.flixcart.com/image/312/312/kp2y2kw0/computer/i/j/d/na-thin-and-light-laptop-lenovo-original-imag3dz5gk3vu7qj.jpeg?q=70',\n",
       "  'link_url': 'https://www.flipkart.com/lenovo-ideapad-slim-3i-2021-core-i3-11th-gen-8-gb-512-gb-ssd-windows-10-home-14itl6-thin-light-laptop/p/itme8ab9fb1c9c56?pid=COMG36BS4RHFNJRM&lid=LSTCOMG36BS4RHFNJRMFGANZB&marketplace=FLIPKART&q=lenovo+laptop&store=6bo%2Fb5g&srno=s_1_3&otracker=search&fm=organic&iid=7c6aa7ec-2411-4e85-81fc-423d47048b9a.COMG36BS4RHFNJRM.SEARCH&ppt=None&ppn=None&ssid=eem5oznr8w0000001631727205716&qH=86f3cf6b571c1490',\n",
       "  'title': 'Lenovo IdeaPad Slim 3i (2021) Core i3 11th Gen - (8 GB/512 GB SSD/Windows 10 Home) 14ITL6 Thin and Lig...',\n",
       "  'price_text': '₹45,990',\n",
       "  'price_amount': '45,990',\n",
       "  'price_symbol': '₹',\n",
       "  'description': 'Intel Core i3 Processor (11th Gen), 8 GB DDR4 RAM, 64 bit Windows 10 Operating System, 512 GB SSD, 35.56 cm (14 inch) Display, Microsoft Office Home and Student 2019, 1 Year Onsite Warranty, '},\n",
       " {'image': 'https://rukminim1.flixcart.com/image/312/312/keaaavk0/computer/x/m/y/lenovo-na-laptop-original-imafuzt8r5jqppfn.jpeg?q=70',\n",
       "  'link_url': 'https://www.flipkart.com/lenovo-ideapad-3-core-i3-10th-gen-8-gb-1-tb-hdd-windows-10-home-15iml05-thin-light-laptop/p/itmb244d9bfb76d4?pid=COMG4WZ7UPV659QV&lid=LSTCOMG4WZ7UPV659QVYZAEMY&marketplace=FLIPKART&q=lenovo+laptop&store=6bo%2Fb5g&srno=s_1_4&otracker=search&fm=organic&iid=7c6aa7ec-2411-4e85-81fc-423d47048b9a.COMG4WZ7UPV659QV.SEARCH&ppt=None&ppn=None&ssid=eem5oznr8w0000001631727205716&qH=86f3cf6b571c1490',\n",
       "  'title': 'Lenovo IdeaPad 3 Core i3 10th Gen - (8 GB/1 TB HDD/Windows 10 Home) 15IML05 Thin and Light Laptop',\n",
       "  'price_text': '₹39,990',\n",
       "  'price_amount': '39,990',\n",
       "  'price_symbol': '₹',\n",
       "  'description': 'Intel Core i3 Processor (10th Gen), 8 GB DDR4 RAM, 64 bit Windows 10 Operating System, 1 TB HDD, 39.62 cm (15.6 inch) Display, Microsoft Office Home and Student 2019, 1 Year Warranty Term, '},\n",
       " {'image': 'https://rukminim1.flixcart.com/image/312/312/kruyw7k0/computer/f/i/u/na-thin-and-light-laptop-lenovo-original-imag5jy6fsm2yx4q.jpeg?q=70',\n",
       "  'link_url': 'https://www.flipkart.com/lenovo-ideapad-3-core-i3-11th-gen-8-gb-512-gb-ssd-windows-10-home-15itl6-thin-light-laptop/p/itm5ffb29affcd67?pid=COMG5EAXKQ7ZH3TY&lid=LSTCOMG5EAXKQ7ZH3TYZBLPPQ&marketplace=FLIPKART&q=lenovo+laptop&store=6bo%2Fb5g&srno=s_1_5&otracker=search&fm=organic&iid=7c6aa7ec-2411-4e85-81fc-423d47048b9a.COMG5EAXKQ7ZH3TY.SEARCH&ppt=None&ppn=None&ssid=eem5oznr8w0000001631727205716&qH=86f3cf6b571c1490',\n",
       "  'title': 'Lenovo IdeaPad 3 Core i3 11th Gen - (8 GB/512 GB SSD/Windows 10 Home) 15ITL6 Thin and Light Laptop',\n",
       "  'price_text': '₹44,490',\n",
       "  'price_amount': '44,490',\n",
       "  'price_symbol': '₹',\n",
       "  'description': 'Intel Core i3 Processor (11th Gen), 8 GB DDR4 RAM, 64 bit Windows 10 Operating System, 512 GB SSD, 39.62 cm (15.6 inch) Display, Office Home and Student 2019 included, 1 Year Warranty Term, '},\n",
       " {'image': 'https://rukminim1.flixcart.com/image/312/312/kpu3frk0/computer/8/n/h/thinkpad-e15-thin-and-light-laptop-lenovo-original-imag3yszdekdzvy2.jpeg?q=70',\n",
       "  'link_url': 'https://www.flipkart.com/lenovo-thinkpad-e15-core-i5-11th-gen-8-gb-512-gb-ssd-windows-10-home-thin-light-laptop/p/itme76a6fe00b067?pid=COMG3D7CZWZZYCHV&lid=LSTCOMG3D7CZWZZYCHVBXA1SA&marketplace=FLIPKART&q=lenovo+laptop&store=6bo%2Fb5g&srno=s_1_6&otracker=search&fm=organic&iid=7c6aa7ec-2411-4e85-81fc-423d47048b9a.COMG3D7CZWZZYCHV.SEARCH&ppt=None&ppn=None&ssid=eem5oznr8w0000001631727205716&qH=86f3cf6b571c1490',\n",
       "  'title': 'Lenovo ThinkPad E15 Core i5 11th Gen - (8 GB/512 GB SSD/Windows 10 Home) E15 Thin and Light Laptop',\n",
       "  'price_text': '₹72,990',\n",
       "  'price_amount': '72,990',\n",
       "  'price_symbol': '₹',\n",
       "  'description': 'Intel Core i5 Processor (11th Gen), 8 GB DDR4 RAM, 64 bit Windows 10 Operating System, 512 GB SSD, 39.62 cm (15.6 Inch) Display, Microsoft Office Home & Student 2019, 1 Year Onsite Warranty, '},\n",
       " {'image': 'https://rukminim1.flixcart.com/image/312/312/kpu3frk0/computer/8/n/h/thinkpad-e15-thin-and-light-laptop-lenovo-original-imag3yszdekdzvy2.jpeg?q=70',\n",
       "  'link_url': 'https://www.flipkart.com/lenovo-thinkpad-e15-core-i5-11th-gen-8-gb-512-gb-ssd-windows-10-home-thin-light-laptop/p/itmeb513e79f0d93?pid=COMG3D7C2FHRGCFH&lid=LSTCOMG3D7C2FHRGCFHPSVCAM&marketplace=FLIPKART&q=lenovo+laptop&store=6bo%2Fb5g&srno=s_1_7&otracker=search&fm=organic&iid=7c6aa7ec-2411-4e85-81fc-423d47048b9a.COMG3D7C2FHRGCFH.SEARCH&ppt=None&ppn=None&ssid=eem5oznr8w0000001631727205716&qH=86f3cf6b571c1490',\n",
       "  'title': 'Lenovo ThinkPad E15 Core i5 11th Gen - (8 GB/512 GB SSD/Windows 10 Home) E15 Thin and Light Laptop',\n",
       "  'price_text': '₹73,990',\n",
       "  'price_amount': '73,990',\n",
       "  'price_symbol': '₹',\n",
       "  'description': 'Intel Core i5 Processor (11th Gen), 8 GB DDR4 RAM, 64 bit Windows 10 Operating System, 512 GB SSD, 39.62 cm (15.6 Inch) Display, Microsoft Office Home & Student 2019, 1 Year Onsite Warranty, '},\n",
       " {'image': 'https://rukminim1.flixcart.com/image/312/312/keaaavk0/computer/x/m/y/lenovo-na-laptop-original-imafuzt8r5jqppfn.jpeg?q=70',\n",
       "  'link_url': 'https://www.flipkart.com/lenovo-ideapad-3-core-i3-10th-gen-4-gb-256-gb-na-ssd-windows-10-home-15iml05-thin-light-laptop/p/itma954945b0e3d5?pid=COMG4WZ7FBP4SDAA&lid=LSTCOMG4WZ7FBP4SDAAJQTXR0&marketplace=FLIPKART&q=lenovo+laptop&store=6bo%2Fb5g&srno=s_1_8&otracker=search&fm=organic&iid=7c6aa7ec-2411-4e85-81fc-423d47048b9a.COMG4WZ7FBP4SDAA.SEARCH&ppt=None&ppn=None&ssid=eem5oznr8w0000001631727205716&qH=86f3cf6b571c1490',\n",
       "  'title': 'Lenovo IdeaPad 3 Core i3 10th Gen - (4 GB/256 GB, NA SSD/Windows 10 Home) 15IML05 Thin and Light Lapto...',\n",
       "  'price_text': '₹36,990',\n",
       "  'price_amount': '36,990',\n",
       "  'price_symbol': '₹',\n",
       "  'description': 'Intel Core i3 Processor (10th Gen), 4 GB DDR4 RAM, 64 bit Windows 10 Operating System, 256 GB, NA SSD, 39.62 cm (15.6 inch) Display, Office Home and Student 2019 included, 1 Year Warranty Term, '},\n",
       " {'image': 'https://rukminim1.flixcart.com/image/312/312/krjjde80/computer/5/k/z/na-gaming-laptop-lenovo-original-imag5bg5egrw92gp.jpeg?q=70',\n",
       "  'link_url': 'https://www.flipkart.com/lenovo-legion-5-pro-ryzen-7-octa-core-5800h-16-gb-1-tb-ssd-windows-10-home-6-gb-graphics-nvidia-geforce-rtx-3060-165-hz-16ach6h-gaming-laptop/p/itm304ba1d23c6ea?pid=COMG57SBHZT7XXY6&lid=LSTCOMG57SBHZT7XXY62Q2BCJ&marketplace=FLIPKART&q=lenovo+laptop&store=6bo%2Fb5g&srno=s_1_9&otracker=search&fm=organic&iid=7c6aa7ec-2411-4e85-81fc-423d47048b9a.COMG57SBHZT7XXY6.SEARCH&ppt=None&ppn=None&ssid=eem5oznr8w0000001631727205716&qH=86f3cf6b571c1490',\n",
       "  'title': 'Lenovo Legion 5 Pro Ryzen 7 Octa Core 5800H - (16 GB/1 TB SSD/Windows 10 Home/6 GB Graphics/NVIDIA GeF...',\n",
       "  'price_text': '₹1,42,990',\n",
       "  'price_amount': '1,42,990',\n",
       "  'price_symbol': '₹',\n",
       "  'description': 'AMD Ryzen 7 Octa Core Processor, 16 GB DDR4 RAM, 64 bit Windows 10 Operating System, 1 TB SSD, 40.64 cm (16 inches) Display, 3 years Onsite warranty, '},\n",
       " {'image': 'https://rukminim1.flixcart.com/image/312/312/kk2wl8w0/computer/f/k/b/na-gaming-laptop-lenovo-original-imafzgdkvx9guy8q.jpeg?q=70',\n",
       "  'link_url': 'https://www.flipkart.com/lenovo-ideapad-gaming-3-ryzen-5-hexa-core-4600h-8-gb-1-tb-hdd-256-gb-ssd-windows-10-home-4-graphics-nvidia-geforce-gtx-1650-120-hz-15arh05-laptop/p/itm5bebf27dba264?pid=COMG36BSYCJQMNSW&lid=LSTCOMG36BSYCJQMNSWZFTKI7&marketplace=FLIPKART&q=lenovo+laptop&store=6bo%2Fb5g&srno=s_1_10&otracker=search&fm=organic&iid=7c6aa7ec-2411-4e85-81fc-423d47048b9a.COMG36BSYCJQMNSW.SEARCH&ppt=None&ppn=None&ssid=eem5oznr8w0000001631727205716&qH=86f3cf6b571c1490',\n",
       "  'title': 'Lenovo Ideapad Gaming 3 Ryzen 5 Hexa Core 4600H - (8 GB/1 TB HDD/256 GB SSD/Windows 10 Home/4 GB Graph...',\n",
       "  'price_text': '₹62,990',\n",
       "  'price_amount': '62,990',\n",
       "  'price_symbol': '₹',\n",
       "  'description': 'AMD Ryzen 5 Hexa Core Processor, 8 GB DDR4 RAM, 64 bit Windows 10 Operating System, 1 TB HDD|256 GB SSD, 39.62 cm (15.6 inch) Display, Microsoft Office (Trial Only), 1 Year Onsite Warranty, '}]"
      ]
     },
     "execution_count": 91,
     "metadata": {},
     "output_type": "execute_result"
    }
   ],
   "source": [
    "key_word = input('Search \\n')\n",
    "scrap_flipkart(key_word)"
   ]
  },
  {
   "cell_type": "code",
   "execution_count": null,
   "id": "369391ae-7d7b-4c93-96d7-ec007a34eee6",
   "metadata": {},
   "outputs": [],
   "source": []
  }
 ],
 "metadata": {
  "kernelspec": {
   "display_name": "Python 3 (ipykernel)",
   "language": "python",
   "name": "python3"
  },
  "language_info": {
   "codemirror_mode": {
    "name": "ipython",
    "version": 3
   },
   "file_extension": ".py",
   "mimetype": "text/x-python",
   "name": "python",
   "nbconvert_exporter": "python",
   "pygments_lexer": "ipython3",
   "version": "3.9.7"
  }
 },
 "nbformat": 4,
 "nbformat_minor": 5
}
